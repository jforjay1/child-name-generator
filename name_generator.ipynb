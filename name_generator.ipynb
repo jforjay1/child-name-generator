{
 "cells": [
  {
   "cell_type": "code",
   "execution_count": 1,
   "metadata": {},
   "outputs": [],
   "source": [
    "import os\n",
    "from secretkey import api_key\n",
    "\n",
    "os.environ[\"OPENAI_API_KEY\"]= api_key"
   ]
  },
  {
   "cell_type": "code",
   "execution_count": 5,
   "metadata": {},
   "outputs": [
    {
     "data": {
      "text/plain": [
       "AIMessage(content='AI_answer:\\nBoys:\\nBrijkhush: Combining \"Brijesh\" with a part of \"Khushi,\" implying the joy of the lord of Brij (a historical region associated with Lord Krishna).\\nKhushraj: Merging \"Khushi\" with \"Raj\" from \"Brijesh,\" indicating a royal joy or happiness.\\nBrijkhushal: Integrating \"Brij\" from \"Brijesh\" and \"Khushal\" from \"Khushi,\" symbolizing a prosperous and joyful individual.\\nShubhrij: A blend of \"Shubh\" (auspicious) from the essence of \"Khushi\" (happiness) and \"Brij\" from \"Brijesh,\" denoting an auspicious and joyful lordship.\\nKhushibrij: Reversing the order to focus first on happiness followed by lordship, emphasizing happiness associated with Brij.\\nGirls:\\nKhushiesh: A fusion of \"Khushi\" and \"Brijesh,\" subtly changing the ending to \"esh\" for a feminine touch, suggesting the goddess of happiness.\\nBrijkhushi: Similar to the boys\\' version but with a softening of the name, integrating \"Brijesh\" and \"Khushi\" to denote joyous sovereignty.\\nBrijshree: Merging \"Brijesh\" with \"Shree\" (a derivative of \"Khushi,\" meaning auspiciousness), highlighting the auspiciousness of Brij.\\nKhushika: Combining \"Khushi\" with a feminine suffix \"ka,\" creating a name that signifies a happy or joyful girl.\\nBrijhushi: A blend of \"Brijesh\" and \"Khushi,\" adjusting the phonetics for a more feminine sound, indicating a joyful and sovereign presence.')"
      ]
     },
     "execution_count": 5,
     "metadata": {},
     "output_type": "execute_result"
    }
   ],
   "source": [
    "from langchain.chat_models import ChatOpenAI\n",
    "from langchain.llms import OpenAI\n",
    "from langchain.schema import HumanMessage\n",
    "\n",
    "chat =  ChatOpenAI(temperature=0.7,model=\"gpt-4-0125-preview\")\n",
    "\n",
    "chat([HumanMessage(content=\"\"\"You will help me create training dataset for generating text to text prompt:\n",
    "\n",
    "User_prompt:\n",
    "Generate Indian kids name based on zodiac sign Aries and it should be made from two words Jay and Shreya\n",
    "\n",
    "AI_answer:\n",
    "Boys:\n",
    "Jayansh: Combining \"Jay\" for victory and \"Ansh\" which means part, suggesting a victorious part of life.\n",
    "Jayveer: Merging \"Jay\" with \"Veer\" (brave), indicating a victorious and brave individual.\n",
    "Shreyansh: Integrating \"Shreya\" for luck with \"Ansh\", portraying a lucky and significant part of life.\n",
    "Jayakar: Combining \"Jay\" with \"Akar\", which means shape or form, symbolizing a victorious form.\n",
    "Shreyaratna: Merging \"Shreya\" with \"Ratna\" (jewel), suggesting a precious and lucky jewel.\n",
    "Girls:\n",
    "Jayshree: A blend of \"Jay\" and \"Shree\" (an alternative spelling of Shreya), symbolizing victory and auspiciousness.\n",
    "Shreyajay: This combines \"Shreya\" and \"Jay\", reversing the order to focus on auspicious victory.\n",
    "Jayshriya: Integrating \"Jay\" with a twist on \"Shreya\", indicating a victorious and auspicious individual.\n",
    "Shreyasree: Merging \"Shreya\" with \"Sree\" (a variant of Shreya), enhancing the auspicious and lucky connotations.\n",
    "Jayashree: Combining \"Jaya\", a variant of \"Jay\", with \"Shree\", denoting a victorious and auspicious person.\n",
    "\n",
    "User_prompt:\n",
    "Generate Indian kids name based on zodiac sign Aries and it should be made from two words Viraj and Neha\n",
    "\n",
    "AI_answer:\n",
    "Boys:\n",
    "Virajit: Combining \"Viraj\" with the suffix \"it,\" which can mean one who possesses, suggesting one who possesses brilliance or sovereignty.\n",
    "Nehvir: A fusion of \"Neha\" and a part of \"Viraj,\" implying love and brilliance together.\n",
    "Virnehal: Integrating \"Vir\" from \"Viraj\" and \"Nehal\" from \"Neha,\" symbolizing a sovereign filled with love.\n",
    "Rajneha: Merging \"Raj\" from \"Viraj\" with \"Neha,\" indicating a royal or sovereign love.\n",
    "Vineha: A blend of \"Vi\" from \"Viraj\" and \"Neha,\" creating a unique name that hints at both brilliance and affection.\n",
    "Girls:\n",
    "Neharika: Inspired by \"Neha\" and incorporating \"Rika\" from \"Viraj\" backwards, symbolizing a dewdrop, which combines the ideas of love with a celestial sparkle.\n",
    "Vinehaa: Similar to the boys' version but with an extra \"a\" for a softer sound, blending \"Viraj\" and \"Neha\" to imply brilliance and love.\n",
    "Rajnehaa: A variation of \"Rajneha\" for girls, with an extra \"a\" to feminize the name, denoting royal love.\n",
    "Nehviraj: Flipping \"Nehvir\" for a girl, emphasizing the sovereignty and brilliance associated with love.\n",
    "Virajneha: Keeping both names intact but combining them, to suggest the sovereign brilliance of love.\n",
    "\n",
    "User_prompt:\n",
    "Generate Indian kids name based on zodiac sign Aries and it should be made from two words Brijesh and Khushi\"\"\")]) "
   ]
  }
 ],
 "metadata": {
  "kernelspec": {
   "display_name": "Python 3",
   "language": "python",
   "name": "python3"
  },
  "language_info": {
   "codemirror_mode": {
    "name": "ipython",
    "version": 3
   },
   "file_extension": ".py",
   "mimetype": "text/x-python",
   "name": "python",
   "nbconvert_exporter": "python",
   "pygments_lexer": "ipython3",
   "version": "3.10.7"
  }
 },
 "nbformat": 4,
 "nbformat_minor": 2
}
