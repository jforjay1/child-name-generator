{
 "cells": [
  {
   "cell_type": "code",
   "execution_count": 57,
   "metadata": {},
   "outputs": [],
   "source": [
    "import pandas as pd\n",
    "df = pd.read_csv(\"Names.csv\")"
   ]
  },
  {
   "cell_type": "code",
   "execution_count": 58,
   "metadata": {},
   "outputs": [],
   "source": [
    "from langchain.chat_models import ChatOpenAI\n",
    "from langchain.schema import HumanMessage\n",
    "\n",
    "import os\n",
    "from secretkey import api_key\n",
    "\n",
    "os.environ[\"OPENAI_API_KEY\"]= api_key\n",
    "\n",
    "chat =  ChatOpenAI(temperature=0.7,model=\"gpt-4-0125-preview\")"
   ]
  },
  {
   "cell_type": "code",
   "execution_count": 59,
   "metadata": {},
   "outputs": [],
   "source": [
    "for index, row in df.iterrows():\n",
    "    answer = chat([HumanMessage(content=f\"\"\"You will help me create training dataset for generating text to text prompt:\n",
    "\n",
    "        User_prompt:\n",
    "        Generate Indian kids name based on zodiac sign Aries and it should be made from two words Jay and Shreya\n",
    "\n",
    "        Answer:\n",
    "        Boys:\n",
    "        Jayansh: Combining \"Jay\" for victory and \"Ansh\" which means part, suggesting a victorious part of life.\n",
    "        Jayveer: Merging \"Jay\" with \"Veer\" (brave), indicating a victorious and brave individual.\n",
    "        Shreyansh: Integrating \"Shreya\" for luck with \"Ansh\", portraying a lucky and significant part of life.\n",
    "        Jayakar: Combining \"Jay\" with \"Akar\", which means shape or form, symbolizing a victorious form.\n",
    "        Shreyaratna: Merging \"Shreya\" with \"Ratna\" (jewel), suggesting a precious and lucky jewel.\n",
    "        Girls:\n",
    "        Jayshree: A blend of \"Jay\" and \"Shree\" (an alternative spelling of Shreya), symbolizing victory and auspiciousness.\n",
    "        Shreyajay: This combines \"Shreya\" and \"Jay\", reversing the order to focus on auspicious victory.\n",
    "        Jayshriya: Integrating \"Jay\" with a twist on \"Shreya\", indicating a victorious and auspicious individual.\n",
    "        Shreyasree: Merging \"Shreya\" with \"Sree\" (a variant of Shreya), enhancing the auspicious and lucky connotations.\n",
    "        Jayashree: Combining \"Jaya\", a variant of \"Jay\", with \"Shree\", denoting a victorious and auspicious person.\n",
    "\n",
    "        User_prompt:\n",
    "        Generate Indian kids name based on zodiac sign Aries and it should be made from two words Viraj and Neha\n",
    "\n",
    "        Answer:\n",
    "        Boys:\n",
    "        Virajit: Combining \"Viraj\" with the suffix \"it,\" which can mean one who possesses, suggesting one who possesses brilliance or sovereignty.\n",
    "        Nehvir: A fusion of \"Neha\" and a part of \"Viraj,\" implying love and brilliance together.\n",
    "        Virnehal: Integrating \"Vir\" from \"Viraj\" and \"Nehal\" from \"Neha,\" symbolizing a sovereign filled with love.\n",
    "        Rajneha: Merging \"Raj\" from \"Viraj\" with \"Neha,\" indicating a royal or sovereign love.\n",
    "        Vineha: A blend of \"Vi\" from \"Viraj\" and \"Neha,\" creating a unique name that hints at both brilliance and affection.\n",
    "        Girls:\n",
    "        Neharika: Inspired by \"Neha\" and incorporating \"Rika\" from \"Viraj\" backwards, symbolizing a dewdrop, which combines the ideas of love with a celestial sparkle.\n",
    "        Vinehaa: Similar to the boys' version but with an extra \"a\" for a softer sound, blending \"Viraj\" and \"Neha\" to imply brilliance and love.\n",
    "        Rajnehaa: A variation of \"Rajneha\" for girls, with an extra \"a\" to feminize the name, denoting royal love.\n",
    "        Nehviraj: Flipping \"Nehvir\" for a girl, emphasizing the sovereignty and brilliance associated with love.\n",
    "        Virajneha: Keeping both names intact but combining them, to suggest the sovereign brilliance of love.\n",
    "\n",
    "        User_prompt:\n",
    "        Generate Indian kids name based on zodiac sign Aries and it should be made from two words {row.iloc[0]} and {row.iloc[1]}\"\"\")])\n",
    "\n",
    "    df.at[index, \"Answer\"]= answer.content"
   ]
  },
  {
   "cell_type": "markdown",
   "metadata": {},
   "source": [
    "Preparing training data"
   ]
  },
  {
   "cell_type": "markdown",
   "metadata": {},
   "source": [
    "Option 1:"
   ]
  },
  {
   "cell_type": "code",
   "execution_count": 70,
   "metadata": {},
   "outputs": [],
   "source": [
    "import json\n",
    "json_objects = []\n",
    "\n",
    "for index, row in df.iterrows():\n",
    "    # Construct the JSON object for each row\n",
    "    json_obj = {\n",
    "        \"messages\":[\n",
    "            {\n",
    "                \"role\": \"system\",\n",
    "                \"content\": \"You are an astrology guru who have mastered in suggesting names for the new born children. You can combine two names and generate two meaningful names for a boy and a girl.\"\n",
    "            },\n",
    "            {\n",
    "                \"role\": \"user\",\n",
    "                \"content\": f\"name1={row['Name1']},name2={row['Name2']}\"\n",
    "            },\n",
    "            {\n",
    "                \"role\": \"assistant\",\n",
    "                \"content\": row['Answer']\n",
    "            }\n",
    "        ]\n",
    "    }\n",
    "    \n",
    "    # Add the JSON object to our list\n",
    "    json_objects.append(json_obj)\n",
    "\n",
    "# Now, write the JSON objects to a file, one per line\n",
    "with open(\"training_data.jsonl\", \"w\", encoding='utf-8') as file:\n",
    "    for obj in json_objects:\n",
    "        file.write(json.dumps(obj, separators=(',', ':')) + '\\n')"
   ]
  },
  {
   "cell_type": "markdown",
   "metadata": {},
   "source": [
    "Option 2:"
   ]
  },
  {
   "cell_type": "code",
   "execution_count": 52,
   "metadata": {},
   "outputs": [],
   "source": [
    "training_data = pd.DataFrame()\n",
    "for index, row in df.iterrows():\n",
    "    instance = f\"\"\"{{\"messages\": [{{\"role\": \"system\", \"content\": \"You are an astrology guru who have mastered in suggesting names for the new born children. You can combine two names and generate two meaningful names for a boy and a girl.\"}},{{\"role\": \"user\", \"content\": \"name1={row.iloc[0]},name2={row.iloc[1]}\"}},{{\"role\": \"assistant\", \"content\": \"{row.iloc[2]}\"}}]}}\"\"\"\n",
    "    training_data.at[index, \"Answer\"]=instance"
   ]
  },
  {
   "cell_type": "code",
   "execution_count": 54,
   "metadata": {},
   "outputs": [],
   "source": [
    "training_data[\"Answer\"].to_csv(\"training_data.csv\",index=False)\n",
    "data = pd.read_csv(\"training_data.csv\")\n",
    "data.to_json(\"training_data.jsonl\")"
   ]
  },
  {
   "cell_type": "code",
   "execution_count": 55,
   "metadata": {},
   "outputs": [],
   "source": [
    "import csv\n",
    "import json\n",
    "\n",
    "# Open the CSV file for reading\n",
    "with open('training_data.csv', mode='r', encoding='utf-8') as csv_file:\n",
    "    # Create a CSV reader object\n",
    "    csv_reader = csv.DictReader(csv_file)\n",
    "    \n",
    "    # Open the JSONL file for writing\n",
    "    with open('training_data.jsonl', mode='w', encoding='utf-8') as jsonl_file:\n",
    "        # Iterate over each row in the CSV file\n",
    "        for row in csv_reader:\n",
    "            # Convert the row (which is already a dictionary) to a JSON string\n",
    "            json_str = json.dumps(row)\n",
    "            # Write the JSON string to the JSONL file, followed by a newline character\n",
    "            jsonl_file.write(json_str + '\\n')"
   ]
  }
 ],
 "metadata": {
  "kernelspec": {
   "display_name": "Python 3",
   "language": "python",
   "name": "python3"
  },
  "language_info": {
   "codemirror_mode": {
    "name": "ipython",
    "version": 3
   },
   "file_extension": ".py",
   "mimetype": "text/x-python",
   "name": "python",
   "nbconvert_exporter": "python",
   "pygments_lexer": "ipython3",
   "version": "3.10.7"
  }
 },
 "nbformat": 4,
 "nbformat_minor": 2
}
