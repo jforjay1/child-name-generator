{
 "cells": [
  {
   "cell_type": "code",
   "execution_count": 1,
   "metadata": {},
   "outputs": [
    {
     "data": {
      "text/plain": [
       "(300, 3)"
      ]
     },
     "execution_count": 1,
     "metadata": {},
     "output_type": "execute_result"
    }
   ],
   "source": [
    "import pandas as pd\n",
    "\n",
    "csv = pd.read_csv(\"Names.csv\")\n",
    "\n",
    "csv.shape"
   ]
  },
  {
   "cell_type": "code",
   "execution_count": 2,
   "metadata": {},
   "outputs": [
    {
     "data": {
      "text/html": [
       "<div>\n",
       "<style scoped>\n",
       "    .dataframe tbody tr th:only-of-type {\n",
       "        vertical-align: middle;\n",
       "    }\n",
       "\n",
       "    .dataframe tbody tr th {\n",
       "        vertical-align: top;\n",
       "    }\n",
       "\n",
       "    .dataframe thead th {\n",
       "        text-align: right;\n",
       "    }\n",
       "</style>\n",
       "<table border=\"1\" class=\"dataframe\">\n",
       "  <thead>\n",
       "    <tr style=\"text-align: right;\">\n",
       "      <th></th>\n",
       "      <th>Name1</th>\n",
       "      <th>Name2</th>\n",
       "      <th>Answer</th>\n",
       "    </tr>\n",
       "  </thead>\n",
       "  <tbody>\n",
       "    <tr>\n",
       "      <th>0</th>\n",
       "      <td>Mrinanka</td>\n",
       "      <td>Angelie</td>\n",
       "      <td>AI_answer:\\nBoys:\\nMrinangel: Combining \"Mrin\"...</td>\n",
       "    </tr>\n",
       "    <tr>\n",
       "      <th>1</th>\n",
       "      <td>Shakshan</td>\n",
       "      <td>Kaasika</td>\n",
       "      <td>AI_answer:\\nBoys:\\nShakasik: Combining \"Shaksh...</td>\n",
       "    </tr>\n",
       "    <tr>\n",
       "      <th>2</th>\n",
       "      <td>Maruthu</td>\n",
       "      <td>Rukshinny</td>\n",
       "      <td>AI_answer:\\nBoys:\\nMarushin: Combining \"Maru\" ...</td>\n",
       "    </tr>\n",
       "    <tr>\n",
       "      <th>3</th>\n",
       "      <td>Eshwardutt</td>\n",
       "      <td>Alycia</td>\n",
       "      <td>AI_answer:\\nBoys:\\nEshwardaan: Combining \"Eshw...</td>\n",
       "    </tr>\n",
       "    <tr>\n",
       "      <th>4</th>\n",
       "      <td>Suganthesh</td>\n",
       "      <td>Chaula</td>\n",
       "      <td>AI_answer:\\nBoys:\\nSuganchaul: Merging \"Sugan\"...</td>\n",
       "    </tr>\n",
       "    <tr>\n",
       "      <th>...</th>\n",
       "      <td>...</td>\n",
       "      <td>...</td>\n",
       "      <td>...</td>\n",
       "    </tr>\n",
       "    <tr>\n",
       "      <th>295</th>\n",
       "      <td>Krishikeshan</td>\n",
       "      <td>Revani</td>\n",
       "      <td>AI_answer:\\nBoys:\\nKrishvani: Combining \"Krish...</td>\n",
       "    </tr>\n",
       "    <tr>\n",
       "      <th>296</th>\n",
       "      <td>Livcharan</td>\n",
       "      <td>Wishma</td>\n",
       "      <td>AI_answer:\\nBoys:\\nLivwish: Combining \"Liv\" fr...</td>\n",
       "    </tr>\n",
       "    <tr>\n",
       "      <th>297</th>\n",
       "      <td>Sukanth</td>\n",
       "      <td>Kaaviyasri</td>\n",
       "      <td>AI_answer:\\nBoys:\\nSukavi: Combining \"Sukanth\"...</td>\n",
       "    </tr>\n",
       "    <tr>\n",
       "      <th>298</th>\n",
       "      <td>Aranesh</td>\n",
       "      <td>Chrisnica</td>\n",
       "      <td>AI_answer:\\nBoys:\\nAranica: Merging \"Aranesh\" ...</td>\n",
       "    </tr>\n",
       "    <tr>\n",
       "      <th>299</th>\n",
       "      <td>Moushimi</td>\n",
       "      <td>Vanmoli</td>\n",
       "      <td>AI_answer:\\nBoys:\\nMouvan: Combining \"Moushimi...</td>\n",
       "    </tr>\n",
       "  </tbody>\n",
       "</table>\n",
       "<p>300 rows × 3 columns</p>\n",
       "</div>"
      ],
      "text/plain": [
       "            Name1       Name2   \n",
       "0        Mrinanka     Angelie  \\\n",
       "1        Shakshan     Kaasika   \n",
       "2         Maruthu   Rukshinny   \n",
       "3      Eshwardutt      Alycia   \n",
       "4      Suganthesh      Chaula   \n",
       "..            ...         ...   \n",
       "295  Krishikeshan      Revani   \n",
       "296     Livcharan      Wishma   \n",
       "297       Sukanth  Kaaviyasri   \n",
       "298       Aranesh   Chrisnica   \n",
       "299      Moushimi     Vanmoli   \n",
       "\n",
       "                                                Answer  \n",
       "0    AI_answer:\\nBoys:\\nMrinangel: Combining \"Mrin\"...  \n",
       "1    AI_answer:\\nBoys:\\nShakasik: Combining \"Shaksh...  \n",
       "2    AI_answer:\\nBoys:\\nMarushin: Combining \"Maru\" ...  \n",
       "3    AI_answer:\\nBoys:\\nEshwardaan: Combining \"Eshw...  \n",
       "4    AI_answer:\\nBoys:\\nSuganchaul: Merging \"Sugan\"...  \n",
       "..                                                 ...  \n",
       "295  AI_answer:\\nBoys:\\nKrishvani: Combining \"Krish...  \n",
       "296  AI_answer:\\nBoys:\\nLivwish: Combining \"Liv\" fr...  \n",
       "297  AI_answer:\\nBoys:\\nSukavi: Combining \"Sukanth\"...  \n",
       "298  AI_answer:\\nBoys:\\nAranica: Merging \"Aranesh\" ...  \n",
       "299  AI_answer:\\nBoys:\\nMouvan: Combining \"Moushimi...  \n",
       "\n",
       "[300 rows x 3 columns]"
      ]
     },
     "execution_count": 2,
     "metadata": {},
     "output_type": "execute_result"
    }
   ],
   "source": [
    "csv"
   ]
  },
  {
   "cell_type": "code",
   "execution_count": 4,
   "metadata": {},
   "outputs": [
    {
     "name": "stderr",
     "output_type": "stream",
     "text": [
      "/Library/Frameworks/Python.framework/Versions/3.10/lib/python3.10/site-packages/langchain_core/_api/deprecation.py:117: LangChainDeprecationWarning: The class `langchain_community.chat_models.openai.ChatOpenAI` was deprecated in langchain-community 0.0.10 and will be removed in 0.2.0. An updated version of the class exists in the langchain-openai package and should be used instead. To use it run `pip install -U langchain-openai` and import as `from langchain_openai import ChatOpenAI`.\n",
      "  warn_deprecated(\n"
     ]
    }
   ],
   "source": [
    "from langchain.chat_models import ChatOpenAI\n",
    "from langchain.llms import OpenAI\n",
    "from langchain.schema import HumanMessage\n",
    "\n",
    "import os\n",
    "from secretkey import api_key\n",
    "\n",
    "os.environ[\"OPENAI_API_KEY\"]= api_key\n",
    "\n",
    "chat =  ChatOpenAI(temperature=0.7,model=\"gpt-4-0125-preview\")"
   ]
  },
  {
   "cell_type": "code",
   "execution_count": 5,
   "metadata": {},
   "outputs": [
    {
     "name": "stderr",
     "output_type": "stream",
     "text": [
      "/Library/Frameworks/Python.framework/Versions/3.10/lib/python3.10/site-packages/langchain_core/_api/deprecation.py:117: LangChainDeprecationWarning: The function `__call__` was deprecated in LangChain 0.1.7 and will be removed in 0.2.0. Use invoke instead.\n",
      "  warn_deprecated(\n"
     ]
    }
   ],
   "source": [
    "for index, row in csv.iterrows():\n",
    "    answer = chat([HumanMessage(content=f\"\"\"You will help me create training dataset for generating text to text prompt:\n",
    "\n",
    "        User_prompt:\n",
    "        Generate Indian kids name based on zodiac sign Aries and it should be made from two words Jay and Shreya\n",
    "\n",
    "        AI_answer:\n",
    "        Boys:\n",
    "        Jayansh: Combining \"Jay\" for victory and \"Ansh\" which means part, suggesting a victorious part of life.\n",
    "        Jayveer: Merging \"Jay\" with \"Veer\" (brave), indicating a victorious and brave individual.\n",
    "        Shreyansh: Integrating \"Shreya\" for luck with \"Ansh\", portraying a lucky and significant part of life.\n",
    "        Jayakar: Combining \"Jay\" with \"Akar\", which means shape or form, symbolizing a victorious form.\n",
    "        Shreyaratna: Merging \"Shreya\" with \"Ratna\" (jewel), suggesting a precious and lucky jewel.\n",
    "        Girls:\n",
    "        Jayshree: A blend of \"Jay\" and \"Shree\" (an alternative spelling of Shreya), symbolizing victory and auspiciousness.\n",
    "        Shreyajay: This combines \"Shreya\" and \"Jay\", reversing the order to focus on auspicious victory.\n",
    "        Jayshriya: Integrating \"Jay\" with a twist on \"Shreya\", indicating a victorious and auspicious individual.\n",
    "        Shreyasree: Merging \"Shreya\" with \"Sree\" (a variant of Shreya), enhancing the auspicious and lucky connotations.\n",
    "        Jayashree: Combining \"Jaya\", a variant of \"Jay\", with \"Shree\", denoting a victorious and auspicious person.\n",
    "\n",
    "        User_prompt:\n",
    "        Generate Indian kids name based on zodiac sign Aries and it should be made from two words Viraj and Neha\n",
    "\n",
    "        AI_answer:\n",
    "        Boys:\n",
    "        Virajit: Combining \"Viraj\" with the suffix \"it,\" which can mean one who possesses, suggesting one who possesses brilliance or sovereignty.\n",
    "        Nehvir: A fusion of \"Neha\" and a part of \"Viraj,\" implying love and brilliance together.\n",
    "        Virnehal: Integrating \"Vir\" from \"Viraj\" and \"Nehal\" from \"Neha,\" symbolizing a sovereign filled with love.\n",
    "        Rajneha: Merging \"Raj\" from \"Viraj\" with \"Neha,\" indicating a royal or sovereign love.\n",
    "        Vineha: A blend of \"Vi\" from \"Viraj\" and \"Neha,\" creating a unique name that hints at both brilliance and affection.\n",
    "        Girls:\n",
    "        Neharika: Inspired by \"Neha\" and incorporating \"Rika\" from \"Viraj\" backwards, symbolizing a dewdrop, which combines the ideas of love with a celestial sparkle.\n",
    "        Vinehaa: Similar to the boys' version but with an extra \"a\" for a softer sound, blending \"Viraj\" and \"Neha\" to imply brilliance and love.\n",
    "        Rajnehaa: A variation of \"Rajneha\" for girls, with an extra \"a\" to feminize the name, denoting royal love.\n",
    "        Nehviraj: Flipping \"Nehvir\" for a girl, emphasizing the sovereignty and brilliance associated with love.\n",
    "        Virajneha: Keeping both names intact but combining them, to suggest the sovereign brilliance of love.\n",
    "\n",
    "        User_prompt:\n",
    "        Generate Indian kids name based on zodiac sign Aries and it should be made from two words {row.iloc[0]} and {row.iloc[1]}\"\"\")])\n",
    "    \n",
    "    csv.at[index, \"Answer\"]= answer.content"
   ]
  },
  {
   "cell_type": "code",
   "execution_count": 9,
   "metadata": {},
   "outputs": [],
   "source": [
    "csv.to_csv(\"Names.csv\")"
   ]
  },
  {
   "cell_type": "markdown",
   "metadata": {},
   "source": [
    "Preparing training data"
   ]
  },
  {
   "cell_type": "code",
   "execution_count": null,
   "metadata": {},
   "outputs": [],
   "source": [
    "import pandas as pd\n",
    "training_data = pd.read_csv(\"training_data.csv\")\n",
    "data = pd.read_csv(\"Names.csv\")\n",
    "data"
   ]
  },
  {
   "cell_type": "code",
   "execution_count": null,
   "metadata": {},
   "outputs": [],
   "source": [
    "for index, row in data.iterrows():\n",
    "    instance = f\"\"\"{{\"messages\": [{{\"role\": \"system\", \"content\": \"You are an astrology guru who have mastered in suggesting names for the new born children. You can combine two names and generate two meaningful names for a boy and a girl.\"}},{{\"role\": \"user\", \"content\": \"name1={row.iloc[0]},name2={row.iloc[1]}\"}},{{\"role\": \"assistant\", \"content\": \"{row.iloc[2]}\"}}]}}\"\"\"\n",
    "    training_data.at[index, \"Answer\"]=instance"
   ]
  },
  {
   "cell_type": "code",
   "execution_count": null,
   "metadata": {},
   "outputs": [],
   "source": [
    "training_data.to_csv(\"training_data.csv\")\n",
    "#Delete index column and Answer row manually\n",
    "data = pd.read_csv(\"training_data.csv\")\n",
    "data.to_json(\"training_data.jsonl\")\n",
    "\n",
    "import csv\n",
    "import json\n",
    "\n",
    "# Open the CSV file for reading\n",
    "with open('training_data.csv', mode='r', encoding='utf-8') as csv_file:\n",
    "    # Create a CSV reader object\n",
    "    csv_reader = csv.DictReader(csv_file)\n",
    "    \n",
    "    # Open the JSONL file for writing\n",
    "    with open('training_data.jsonl', mode='w', encoding='utf-8') as jsonl_file:\n",
    "        # Iterate over each row in the CSV file\n",
    "        for row in csv_reader:\n",
    "            # Convert the row (which is already a dictionary) to a JSON string\n",
    "            json_str = json.dumps(row)\n",
    "            # Write the JSON string to the JSONL file, followed by a newline character\n",
    "            jsonl_file.write(json_str + '\\n')"
   ]
  }
 ],
 "metadata": {
  "kernelspec": {
   "display_name": "Python 3",
   "language": "python",
   "name": "python3"
  },
  "language_info": {
   "codemirror_mode": {
    "name": "ipython",
    "version": 3
   },
   "file_extension": ".py",
   "mimetype": "text/x-python",
   "name": "python",
   "nbconvert_exporter": "python",
   "pygments_lexer": "ipython3",
   "version": "3.10.7"
  }
 },
 "nbformat": 4,
 "nbformat_minor": 2
}
