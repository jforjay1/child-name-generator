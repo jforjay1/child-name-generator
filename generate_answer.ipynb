{
 "cells": [
  {
   "cell_type": "code",
   "execution_count": 26,
   "metadata": {},
   "outputs": [
    {
     "data": {
      "text/plain": [
       "(1, 2)"
      ]
     },
     "execution_count": 26,
     "metadata": {},
     "output_type": "execute_result"
    }
   ],
   "source": [
    "import pandas as pd\n",
    "\n",
    "csv = pd.read_csv(\"Names.csv\")\n",
    "\n",
    "csv.shape"
   ]
  },
  {
   "cell_type": "code",
   "execution_count": 27,
   "metadata": {},
   "outputs": [
    {
     "data": {
      "text/html": [
       "<div>\n",
       "<style scoped>\n",
       "    .dataframe tbody tr th:only-of-type {\n",
       "        vertical-align: middle;\n",
       "    }\n",
       "\n",
       "    .dataframe tbody tr th {\n",
       "        vertical-align: top;\n",
       "    }\n",
       "\n",
       "    .dataframe thead th {\n",
       "        text-align: right;\n",
       "    }\n",
       "</style>\n",
       "<table border=\"1\" class=\"dataframe\">\n",
       "  <thead>\n",
       "    <tr style=\"text-align: right;\">\n",
       "      <th></th>\n",
       "      <th>Name1</th>\n",
       "      <th>Name2</th>\n",
       "    </tr>\n",
       "  </thead>\n",
       "  <tbody>\n",
       "    <tr>\n",
       "      <th>0</th>\n",
       "      <td>Sakaleshwar</td>\n",
       "      <td>Rishabhapriya</td>\n",
       "    </tr>\n",
       "  </tbody>\n",
       "</table>\n",
       "</div>"
      ],
      "text/plain": [
       "         Name1          Name2\n",
       "0  Sakaleshwar  Rishabhapriya"
      ]
     },
     "execution_count": 27,
     "metadata": {},
     "output_type": "execute_result"
    }
   ],
   "source": [
    "csv"
   ]
  },
  {
   "cell_type": "code",
   "execution_count": 28,
   "metadata": {},
   "outputs": [],
   "source": [
    "from langchain.chat_models import ChatOpenAI\n",
    "from langchain.llms import OpenAI\n",
    "from langchain.schema import HumanMessage\n",
    "\n",
    "import os\n",
    "from secretkey import api_key\n",
    "\n",
    "os.environ[\"OPENAI_API_KEY\"]= api_key\n",
    "\n",
    "chat =  ChatOpenAI(temperature=0.7,model=\"gpt-4-0125-preview\")"
   ]
  },
  {
   "cell_type": "code",
   "execution_count": 31,
   "metadata": {},
   "outputs": [],
   "source": [
    "for index, row in csv.iterrows():\n",
    "    answer = chat([HumanMessage(content=f\"\"\"You will help me create training dataset for generating text to text prompt:\n",
    "\n",
    "        User_prompt:\n",
    "        Generate Indian kids name based on zodiac sign Aries and it should be made from two words Jay and Shreya\n",
    "\n",
    "        AI_answer:\n",
    "        Boys:\n",
    "        Jayansh: Combining \"Jay\" for victory and \"Ansh\" which means part, suggesting a victorious part of life.\n",
    "        Jayveer: Merging \"Jay\" with \"Veer\" (brave), indicating a victorious and brave individual.\n",
    "        Shreyansh: Integrating \"Shreya\" for luck with \"Ansh\", portraying a lucky and significant part of life.\n",
    "        Jayakar: Combining \"Jay\" with \"Akar\", which means shape or form, symbolizing a victorious form.\n",
    "        Shreyaratna: Merging \"Shreya\" with \"Ratna\" (jewel), suggesting a precious and lucky jewel.\n",
    "        Girls:\n",
    "        Jayshree: A blend of \"Jay\" and \"Shree\" (an alternative spelling of Shreya), symbolizing victory and auspiciousness.\n",
    "        Shreyajay: This combines \"Shreya\" and \"Jay\", reversing the order to focus on auspicious victory.\n",
    "        Jayshriya: Integrating \"Jay\" with a twist on \"Shreya\", indicating a victorious and auspicious individual.\n",
    "        Shreyasree: Merging \"Shreya\" with \"Sree\" (a variant of Shreya), enhancing the auspicious and lucky connotations.\n",
    "        Jayashree: Combining \"Jaya\", a variant of \"Jay\", with \"Shree\", denoting a victorious and auspicious person.\n",
    "\n",
    "        User_prompt:\n",
    "        Generate Indian kids name based on zodiac sign Aries and it should be made from two words Viraj and Neha\n",
    "\n",
    "        AI_answer:\n",
    "        Boys:\n",
    "        Virajit: Combining \"Viraj\" with the suffix \"it,\" which can mean one who possesses, suggesting one who possesses brilliance or sovereignty.\n",
    "        Nehvir: A fusion of \"Neha\" and a part of \"Viraj,\" implying love and brilliance together.\n",
    "        Virnehal: Integrating \"Vir\" from \"Viraj\" and \"Nehal\" from \"Neha,\" symbolizing a sovereign filled with love.\n",
    "        Rajneha: Merging \"Raj\" from \"Viraj\" with \"Neha,\" indicating a royal or sovereign love.\n",
    "        Vineha: A blend of \"Vi\" from \"Viraj\" and \"Neha,\" creating a unique name that hints at both brilliance and affection.\n",
    "        Girls:\n",
    "        Neharika: Inspired by \"Neha\" and incorporating \"Rika\" from \"Viraj\" backwards, symbolizing a dewdrop, which combines the ideas of love with a celestial sparkle.\n",
    "        Vinehaa: Similar to the boys' version but with an extra \"a\" for a softer sound, blending \"Viraj\" and \"Neha\" to imply brilliance and love.\n",
    "        Rajnehaa: A variation of \"Rajneha\" for girls, with an extra \"a\" to feminize the name, denoting royal love.\n",
    "        Nehviraj: Flipping \"Nehvir\" for a girl, emphasizing the sovereignty and brilliance associated with love.\n",
    "        Virajneha: Keeping both names intact but combining them, to suggest the sovereign brilliance of love.\n",
    "\n",
    "        User_prompt:\n",
    "        Generate Indian kids name based on zodiac sign Aries and it should be made from two words {row.iloc[0]} and {row.iloc[1]}\"\"\")])\n",
    "    \n",
    "    csv.at[index, \"Answer\"]= answer.content"
   ]
  },
  {
   "cell_type": "code",
   "execution_count": 33,
   "metadata": {},
   "outputs": [
    {
     "name": "stdout",
     "output_type": "stream",
     "text": [
      "AI_answer:\n",
      "Boys:\n",
      "Sakrish: Combining \"Sak\" from \"Sakaleshwar\" with \"Rish\" from \"Rishabhapriya\", symbolizing someone who embodies the essence of both names, denoting completeness and love for the supreme.\n",
      "Rishalesh: Merging \"Rish\" from \"Rishabhapriya\" with \"Alesh\" from \"Sakaleshwar\", implying one who is beloved and embodies completeness or entirety.\n",
      "Priyawar: Integrating \"Priya\" from \"Rishabhapriya\" with \"War\" from \"Sakaleshwar\", indicating a beloved and complete protector.\n",
      "Sakpriy: Blending \"Sak\" from \"Sakaleshwar\" with \"Priy\" from \"Rishabhapriya\", creating a name that suggests being beloved and complete.\n",
      "Rishakar: Combining \"Rish\" from \"Rishabhapriya\" with \"Akar\" from \"Sakaleshwar\", denoting one who has the shape or essence of love and completeness.\n",
      "\n",
      "Girls:\n",
      "Sakapriya: Merging \"Saka\" from \"Sakaleshwar\" with \"Priya\" from \"Rishabhapriya\", suggesting one who is beloved and embodies completeness.\n",
      "Priyalesh: Combining \"Priya\" from \"Rishabhapriya\" with \"Alesh\" from \"Sakaleshwar\", indicating a beloved person who is complete in themselves.\n",
      "Rishasak: Integrating \"Risha\" from \"Rishabhapriya\" with \"Sak\" from \"Sakaleshwar\", symbolizing a person who combines the essence of love with completeness.\n",
      "Sakrisha: Blending \"Sak\" from \"Sakaleshwar\" with \"Risha\" from \"Rishabhapriya\", creating a name that emphasizes the completeness and beloved nature.\n",
      "Priyawari: Combining \"Priya\" from \"Rishabhapriya\" with \"Wari\" from \"Sakaleshwar\", denoting a beloved protector of completeness.\n"
     ]
    }
   ],
   "source": [
    "print(answer.content)"
   ]
  },
  {
   "cell_type": "code",
   "execution_count": null,
   "metadata": {},
   "outputs": [],
   "source": [
    "csv.at[index, \"Answer\"]=\n",
    "\n",
    "chat([HumanMessage(content=\"\"\"You will help me create training dataset for generating text to text prompt:\n",
    "\n",
    "User_prompt:\n",
    "Generate Indian kids name based on zodiac sign Aries and it should be made from two words Jay and Shreya\n",
    "\n",
    "AI_answer:\n",
    "Boys:\n",
    "Jayansh: Combining \"Jay\" for victory and \"Ansh\" which means part, suggesting a victorious part of life.\n",
    "Jayveer: Merging \"Jay\" with \"Veer\" (brave), indicating a victorious and brave individual.\n",
    "Shreyansh: Integrating \"Shreya\" for luck with \"Ansh\", portraying a lucky and significant part of life.\n",
    "Jayakar: Combining \"Jay\" with \"Akar\", which means shape or form, symbolizing a victorious form.\n",
    "Shreyaratna: Merging \"Shreya\" with \"Ratna\" (jewel), suggesting a precious and lucky jewel.\n",
    "Girls:\n",
    "Jayshree: A blend of \"Jay\" and \"Shree\" (an alternative spelling of Shreya), symbolizing victory and auspiciousness.\n",
    "Shreyajay: This combines \"Shreya\" and \"Jay\", reversing the order to focus on auspicious victory.\n",
    "Jayshriya: Integrating \"Jay\" with a twist on \"Shreya\", indicating a victorious and auspicious individual.\n",
    "Shreyasree: Merging \"Shreya\" with \"Sree\" (a variant of Shreya), enhancing the auspicious and lucky connotations.\n",
    "Jayashree: Combining \"Jaya\", a variant of \"Jay\", with \"Shree\", denoting a victorious and auspicious person.\n",
    "\n",
    "User_prompt:\n",
    "Generate Indian kids name based on zodiac sign Aries and it should be made from two words Viraj and Neha\n",
    "\n",
    "AI_answer:\n",
    "Boys:\n",
    "Virajit: Combining \"Viraj\" with the suffix \"it,\" which can mean one who possesses, suggesting one who possesses brilliance or sovereignty.\n",
    "Nehvir: A fusion of \"Neha\" and a part of \"Viraj,\" implying love and brilliance together.\n",
    "Virnehal: Integrating \"Vir\" from \"Viraj\" and \"Nehal\" from \"Neha,\" symbolizing a sovereign filled with love.\n",
    "Rajneha: Merging \"Raj\" from \"Viraj\" with \"Neha,\" indicating a royal or sovereign love.\n",
    "Vineha: A blend of \"Vi\" from \"Viraj\" and \"Neha,\" creating a unique name that hints at both brilliance and affection.\n",
    "Girls:\n",
    "Neharika: Inspired by \"Neha\" and incorporating \"Rika\" from \"Viraj\" backwards, symbolizing a dewdrop, which combines the ideas of love with a celestial sparkle.\n",
    "Vinehaa: Similar to the boys' version but with an extra \"a\" for a softer sound, blending \"Viraj\" and \"Neha\" to imply brilliance and love.\n",
    "Rajnehaa: A variation of \"Rajneha\" for girls, with an extra \"a\" to feminize the name, denoting royal love.\n",
    "Nehviraj: Flipping \"Nehvir\" for a girl, emphasizing the sovereignty and brilliance associated with love.\n",
    "Virajneha: Keeping both names intact but combining them, to suggest the sovereign brilliance of love.\n",
    "\n",
    "User_prompt:\n",
    "Generate Indian kids name based on zodiac sign Aries and it should be made from two words Brijesh and Khushi\"\"\")]) "
   ]
  }
 ],
 "metadata": {
  "kernelspec": {
   "display_name": "Python 3",
   "language": "python",
   "name": "python3"
  },
  "language_info": {
   "codemirror_mode": {
    "name": "ipython",
    "version": 3
   },
   "file_extension": ".py",
   "mimetype": "text/x-python",
   "name": "python",
   "nbconvert_exporter": "python",
   "pygments_lexer": "ipython3",
   "version": "3.10.7"
  }
 },
 "nbformat": 4,
 "nbformat_minor": 2
}
